{
  "nbformat": 4,
  "nbformat_minor": 0,
  "metadata": {
    "colab": {
      "name": "Day-5 Assignment-3",
      "provenance": [],
      "authorship_tag": "ABX9TyMum523E8GsejWHIsQw98sV",
      "include_colab_link": true
    },
    "kernelspec": {
      "name": "python3",
      "display_name": "Python 3"
    }
  },
  "cells": [
    {
      "cell_type": "markdown",
      "metadata": {
        "id": "view-in-github",
        "colab_type": "text"
      },
      "source": [
        "<a href=\"https://colab.research.google.com/github/Akshatpattiwar512/LetsUpgrade-Python-Essentials/blob/master/Day_5_Assignment_3.ipynb\" target=\"_parent\"><img src=\"https://colab.research.google.com/assets/colab-badge.svg\" alt=\"Open In Colab\"/></a>"
      ]
    },
    {
      "cell_type": "code",
      "metadata": {
        "id": "yj-HhT48QTlz",
        "colab_type": "code",
        "colab": {}
      },
      "source": [
        "lst = [\"hey this is sai\", \"i am in mumbai\"]"
      ],
      "execution_count": 145,
      "outputs": []
    },
    {
      "cell_type": "code",
      "metadata": {
        "id": "yUunS7ofWKkv",
        "colab_type": "code",
        "colab": {}
      },
      "source": [
        "def capital(lst):\n",
        "  return lst.title()"
      ],
      "execution_count": 146,
      "outputs": []
    },
    {
      "cell_type": "code",
      "metadata": {
        "id": "vTvM5juLVTiu",
        "colab_type": "code",
        "colab": {}
      },
      "source": [
        "cap_lst = map(capitalize, lst)\n"
      ],
      "execution_count": 147,
      "outputs": []
    },
    {
      "cell_type": "code",
      "metadata": {
        "id": "1AMcCCL3Uxnn",
        "colab_type": "code",
        "colab": {
          "base_uri": "https://localhost:8080/",
          "height": 34
        },
        "outputId": "fc328dbe-9895-4106-d2b1-c468fa1ed3db"
      },
      "source": [
        "list(cap_lst)"
      ],
      "execution_count": 148,
      "outputs": [
        {
          "output_type": "execute_result",
          "data": {
            "text/plain": [
              "['Hey This Is Sai', 'I Am In Mumbai']"
            ]
          },
          "metadata": {
            "tags": []
          },
          "execution_count": 148
        }
      ]
    }
  ]
}