{
  "nbformat": 4,
  "nbformat_minor": 0,
  "metadata": {
    "colab": {
      "name": "Day-6 ",
      "provenance": [],
      "authorship_tag": "ABX9TyORP8eWtLY53lEX+xJpW43W",
      "include_colab_link": true
    },
    "kernelspec": {
      "name": "python3",
      "display_name": "Python 3"
    }
  },
  "cells": [
    {
      "cell_type": "markdown",
      "metadata": {
        "id": "view-in-github",
        "colab_type": "text"
      },
      "source": [
        "<a href=\"https://colab.research.google.com/github/Akshatpattiwar512/LetsUpgrade-Python-Essentials/blob/master/Day_6.ipynb\" target=\"_parent\"><img src=\"https://colab.research.google.com/assets/colab-badge.svg\" alt=\"Open In Colab\"/></a>"
      ]
    },
    {
      "cell_type": "code",
      "metadata": {
        "id": "taIda5ZVGECC",
        "colab_type": "code",
        "colab": {
          "base_uri": "https://localhost:8080/",
          "height": 102
        },
        "outputId": "2699796d-b815-46e9-8cc0-323c3678f47a"
      },
      "source": [
        "class Account:\n",
        "    \n",
        "    def __init__(self, owner, balance):\n",
        "        self.owner = owner\n",
        "        self.balance = balance\n",
        "    \n",
        "    def __str__(self):\n",
        "        return 'Account owner: {owner}\\nAccount balance: ${balance}'.format(owner=self.owner, balance=self.balance)\n",
        "        \n",
        "    def deposit(self, dp_money):\n",
        "        self.balance += dp_money\n",
        "        print('Deposit Accepted, your balance is {balance}'.format(balance=self.balance))\n",
        "    \n",
        "    def withdraw(self, wd_money):\n",
        "        if wd_money > self.balance:\n",
        "            print('Funds Unavailable!')\n",
        "        else:\n",
        "            self.balance -= wd_money\n",
        "            print('Withdrawal Accepted, your balance is {balance}'.format(balance=self.balance))\n",
        "            \n",
        "acct1 = Account('Karan',100)\n",
        "print(acct1)\n",
        "\n",
        "acct1.deposit(70)\n",
        "acct1.withdraw(60)\n",
        "acct1.withdraw(500)            "
      ],
      "execution_count": 17,
      "outputs": [
        {
          "output_type": "stream",
          "text": [
            "Account owner: Karan\n",
            "Account balance: $100\n",
            "Deposit Accepted, your balance is 170\n",
            "Withdrawal Accepted, your balance is 110\n",
            "Funds Unavailable!\n"
          ],
          "name": "stdout"
        }
      ]
    },
    {
      "cell_type": "code",
      "metadata": {
        "id": "Eqq34RM4UgFi",
        "colab_type": "code",
        "colab": {}
      },
      "source": [
        ""
      ],
      "execution_count": 15,
      "outputs": []
    }
  ]
}