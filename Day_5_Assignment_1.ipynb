{
  "nbformat": 4,
  "nbformat_minor": 0,
  "metadata": {
    "colab": {
      "name": "Day-5 Assignment-1",
      "provenance": [],
      "authorship_tag": "ABX9TyOjPWcftS2lgnQWlf0F5z7K",
      "include_colab_link": true
    },
    "kernelspec": {
      "name": "python3",
      "display_name": "Python 3"
    }
  },
  "cells": [
    {
      "cell_type": "markdown",
      "metadata": {
        "id": "view-in-github",
        "colab_type": "text"
      },
      "source": [
        "<a href=\"https://colab.research.google.com/github/Akshatpattiwar512/LetsUpgrade-Python-Essentials/blob/master/Day_5_Assignment_1.ipynb\" target=\"_parent\"><img src=\"https://colab.research.google.com/assets/colab-badge.svg\" alt=\"Open In Colab\"/></a>"
      ]
    },
    {
      "cell_type": "code",
      "metadata": {
        "id": "xzFtj6JtWceb",
        "colab_type": "code",
        "colab": {
          "base_uri": "https://localhost:8080/",
          "height": 68
        },
        "outputId": "84224ce6-08c2-4958-af6c-131c7c9009ac"
      },
      "source": [
        "test_list = [1, 5, 6, 4, 1, 2, 3, 5] \n",
        "sub_list = [1, 1, 5]\n",
        "  \n",
        "print (\"Original list : \" + str(test_list)) \n",
        "print (\"Original sub list : \" + str(sub_list)) \n",
        "    \n",
        "flag = 0\n",
        "if(all(x in test_list for x in sub_list)): \n",
        "    flag = 1\n",
        "      \n",
        "if (flag) : \n",
        "    print (\"it's a Match\") \n",
        "else : \n",
        "    print (\"it's Gone\")\n"
      ],
      "execution_count": 24,
      "outputs": [
        {
          "output_type": "stream",
          "text": [
            "Original list : [1, 5, 6, 4, 1, 2, 3, 5]\n",
            "Original sub list : [1, 1, 5]\n",
            "it's a Match\n"
          ],
          "name": "stdout"
        }
      ]
    },
    {
      "cell_type": "code",
      "metadata": {
        "id": "1WV14yu_BiWi",
        "colab_type": "code",
        "colab": {}
      },
      "source": [
        ""
      ],
      "execution_count": null,
      "outputs": []
    }
  ]
}