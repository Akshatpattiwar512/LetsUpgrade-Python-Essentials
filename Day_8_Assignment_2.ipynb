{
  "nbformat": 4,
  "nbformat_minor": 0,
  "metadata": {
    "colab": {
      "name": "Day-8 Assignment-2",
      "provenance": [],
      "authorship_tag": "ABX9TyPmFx8sFGULKCW85lSICTlG",
      "include_colab_link": true
    },
    "kernelspec": {
      "name": "python3",
      "display_name": "Python 3"
    }
  },
  "cells": [
    {
      "cell_type": "markdown",
      "metadata": {
        "id": "view-in-github",
        "colab_type": "text"
      },
      "source": [
        "<a href=\"https://colab.research.google.com/github/Akshatpattiwar512/LetsUpgrade-Python-Essentials/blob/master/Day_8_Assignment_2.ipynb\" target=\"_parent\"><img src=\"https://colab.research.google.com/assets/colab-badge.svg\" alt=\"Open In Colab\"/></a>"
      ]
    },
    {
      "cell_type": "code",
      "metadata": {
        "id": "myVmKHNAp0OU",
        "colab_type": "code",
        "colab": {}
      },
      "source": [
        "open(\"new_file.txt\", \"x\")"
      ],
      "execution_count": null,
      "outputs": []
    },
    {
      "cell_type": "code",
      "metadata": {
        "id": "mM83tfyufxYL",
        "colab_type": "code",
        "colab": {
          "base_uri": "https://localhost:8080/",
          "height": 34
        },
        "outputId": "a2e562a3-6679-4c64-e1be-d1508771ffb2"
      },
      "source": [
        "try:\n",
        "  f = open(\"new_file.txt\", \"r\")\n",
        "  f.write(\"\\nNew Line\")\n",
        "  f.close()\n",
        "except:\n",
        "  print(\"File cannot be written\")\n"
      ],
      "execution_count": 14,
      "outputs": [
        {
          "output_type": "stream",
          "text": [
            "File cannot be written\n"
          ],
          "name": "stdout"
        }
      ]
    }
  ]
}